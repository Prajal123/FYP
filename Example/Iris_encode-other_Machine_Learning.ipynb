{
 "cells": [
  {
   "cell_type": "code",
   "execution_count": 1,
   "id": "78b6ab37",
   "metadata": {},
   "outputs": [],
   "source": [
    "import pandas as pd\n",
    "import numpy as np\n",
    "from sklearn import datasets\n",
    "from sklearn.model_selection import train_test_split\n",
    "from sklearn.metrics import accuracy_score,precision_score,recall_score,f1_score\n",
    "from sklearn.linear_model import LogisticRegression\n",
    "from sklearn.preprocessing import OneHotEncoder\n",
    "from sklearn.preprocessing import LabelEncoder\n",
    "from sklearn import svm\n",
    "from sklearn.tree import DecisionTreeClassifier\n",
    "from sklearn.naive_bayes import GaussianNB\n",
    "from bince_encoding import bince_encoding\n",
    "from classification_using_ca import classification\n",
    "from frequency_encoding import frequency_encoding\n",
    "from sklearn.neighbors import KNeighborsClassifier\n",
    "from calculate_time import calculate_time\n",
    "import time"
   ]
  },
  {
   "cell_type": "code",
   "execution_count": 2,
   "id": "23a9bf23",
   "metadata": {},
   "outputs": [],
   "source": [
    "df=pd.read_csv('iris.csv')"
   ]
  },
  {
   "cell_type": "code",
   "execution_count": 3,
   "id": "61e04030",
   "metadata": {},
   "outputs": [
    {
     "data": {
      "text/html": [
       "<div>\n",
       "<style scoped>\n",
       "    .dataframe tbody tr th:only-of-type {\n",
       "        vertical-align: middle;\n",
       "    }\n",
       "\n",
       "    .dataframe tbody tr th {\n",
       "        vertical-align: top;\n",
       "    }\n",
       "\n",
       "    .dataframe thead th {\n",
       "        text-align: right;\n",
       "    }\n",
       "</style>\n",
       "<table border=\"1\" class=\"dataframe\">\n",
       "  <thead>\n",
       "    <tr style=\"text-align: right;\">\n",
       "      <th></th>\n",
       "      <th>sepal_length</th>\n",
       "      <th>sepal_width</th>\n",
       "      <th>petal_length</th>\n",
       "      <th>petal_width</th>\n",
       "      <th>species</th>\n",
       "    </tr>\n",
       "  </thead>\n",
       "  <tbody>\n",
       "    <tr>\n",
       "      <th>0</th>\n",
       "      <td>5.1</td>\n",
       "      <td>3.5</td>\n",
       "      <td>1.4</td>\n",
       "      <td>0.2</td>\n",
       "      <td>setosa</td>\n",
       "    </tr>\n",
       "    <tr>\n",
       "      <th>1</th>\n",
       "      <td>4.9</td>\n",
       "      <td>3.0</td>\n",
       "      <td>1.4</td>\n",
       "      <td>0.2</td>\n",
       "      <td>setosa</td>\n",
       "    </tr>\n",
       "    <tr>\n",
       "      <th>2</th>\n",
       "      <td>4.7</td>\n",
       "      <td>3.2</td>\n",
       "      <td>1.3</td>\n",
       "      <td>0.2</td>\n",
       "      <td>setosa</td>\n",
       "    </tr>\n",
       "    <tr>\n",
       "      <th>3</th>\n",
       "      <td>4.6</td>\n",
       "      <td>3.1</td>\n",
       "      <td>1.5</td>\n",
       "      <td>0.2</td>\n",
       "      <td>setosa</td>\n",
       "    </tr>\n",
       "    <tr>\n",
       "      <th>4</th>\n",
       "      <td>5.0</td>\n",
       "      <td>3.6</td>\n",
       "      <td>1.4</td>\n",
       "      <td>0.2</td>\n",
       "      <td>setosa</td>\n",
       "    </tr>\n",
       "  </tbody>\n",
       "</table>\n",
       "</div>"
      ],
      "text/plain": [
       "   sepal_length  sepal_width  petal_length  petal_width species\n",
       "0           5.1          3.5           1.4          0.2  setosa\n",
       "1           4.9          3.0           1.4          0.2  setosa\n",
       "2           4.7          3.2           1.3          0.2  setosa\n",
       "3           4.6          3.1           1.5          0.2  setosa\n",
       "4           5.0          3.6           1.4          0.2  setosa"
      ]
     },
     "execution_count": 3,
     "metadata": {},
     "output_type": "execute_result"
    }
   ],
   "source": [
    "df.head()"
   ]
  },
  {
   "cell_type": "code",
   "execution_count": 4,
   "id": "da30198d",
   "metadata": {},
   "outputs": [],
   "source": [
    "y=df['species']\n",
    "df.drop(['species'],axis=1,inplace=True)\n",
    "X=df"
   ]
  },
  {
   "cell_type": "code",
   "execution_count": 5,
   "id": "32d7a13d",
   "metadata": {},
   "outputs": [],
   "source": [
    "dict_x=X.to_dict()"
   ]
  },
  {
   "cell_type": "code",
   "execution_count": 6,
   "id": "c50d92a3",
   "metadata": {},
   "outputs": [],
   "source": [
    "data=frequency_encoding(dict_x)"
   ]
  },
  {
   "cell_type": "code",
   "execution_count": 7,
   "id": "3139acc2",
   "metadata": {},
   "outputs": [],
   "source": [
    "X=pd.DataFrame(data)\n",
    "y=LabelEncoder().fit_transform(y)"
   ]
  },
  {
   "cell_type": "code",
   "execution_count": 8,
   "id": "8c518755",
   "metadata": {},
   "outputs": [],
   "source": [
    "X['encoded_string']=X.apply(lambda row: ''.join(map(str, row)), axis=1)"
   ]
  },
  {
   "cell_type": "code",
   "execution_count": 9,
   "id": "dfcaa7c8",
   "metadata": {},
   "outputs": [
    {
     "data": {
      "text/html": [
       "<div>\n",
       "<style scoped>\n",
       "    .dataframe tbody tr th:only-of-type {\n",
       "        vertical-align: middle;\n",
       "    }\n",
       "\n",
       "    .dataframe tbody tr th {\n",
       "        vertical-align: top;\n",
       "    }\n",
       "\n",
       "    .dataframe thead th {\n",
       "        text-align: right;\n",
       "    }\n",
       "</style>\n",
       "<table border=\"1\" class=\"dataframe\">\n",
       "  <thead>\n",
       "    <tr style=\"text-align: right;\">\n",
       "      <th></th>\n",
       "      <th>sepal_length</th>\n",
       "      <th>sepal_width</th>\n",
       "      <th>petal_length</th>\n",
       "      <th>petal_width</th>\n",
       "      <th>encoded_string</th>\n",
       "    </tr>\n",
       "  </thead>\n",
       "  <tbody>\n",
       "    <tr>\n",
       "      <th>0</th>\n",
       "      <td>001</td>\n",
       "      <td>111</td>\n",
       "      <td>000</td>\n",
       "      <td>000</td>\n",
       "      <td>001111000000</td>\n",
       "    </tr>\n",
       "    <tr>\n",
       "      <th>1</th>\n",
       "      <td>000</td>\n",
       "      <td>011</td>\n",
       "      <td>000</td>\n",
       "      <td>000</td>\n",
       "      <td>000011000000</td>\n",
       "    </tr>\n",
       "    <tr>\n",
       "      <th>2</th>\n",
       "      <td>000</td>\n",
       "      <td>011</td>\n",
       "      <td>000</td>\n",
       "      <td>000</td>\n",
       "      <td>000011000000</td>\n",
       "    </tr>\n",
       "    <tr>\n",
       "      <th>3</th>\n",
       "      <td>000</td>\n",
       "      <td>011</td>\n",
       "      <td>000</td>\n",
       "      <td>000</td>\n",
       "      <td>000011000000</td>\n",
       "    </tr>\n",
       "    <tr>\n",
       "      <th>4</th>\n",
       "      <td>000</td>\n",
       "      <td>111</td>\n",
       "      <td>000</td>\n",
       "      <td>000</td>\n",
       "      <td>000111000000</td>\n",
       "    </tr>\n",
       "  </tbody>\n",
       "</table>\n",
       "</div>"
      ],
      "text/plain": [
       "  sepal_length sepal_width petal_length petal_width encoded_string\n",
       "0          001         111          000         000   001111000000\n",
       "1          000         011          000         000   000011000000\n",
       "2          000         011          000         000   000011000000\n",
       "3          000         011          000         000   000011000000\n",
       "4          000         111          000         000   000111000000"
      ]
     },
     "execution_count": 9,
     "metadata": {},
     "output_type": "execute_result"
    }
   ],
   "source": [
    "X.head()"
   ]
  },
  {
   "cell_type": "code",
   "execution_count": 10,
   "id": "ed813721",
   "metadata": {},
   "outputs": [],
   "source": [
    "X.drop(['sepal_length','sepal_width','petal_length','petal_width'],axis=1,inplace=True)"
   ]
  },
  {
   "cell_type": "code",
   "execution_count": 11,
   "id": "e23443dd",
   "metadata": {},
   "outputs": [],
   "source": [
    "split_columns = X['encoded_string'].apply(lambda x: pd.Series(list(x)))"
   ]
  },
  {
   "cell_type": "code",
   "execution_count": 12,
   "id": "ebdfd8a5",
   "metadata": {},
   "outputs": [],
   "source": [
    "X=split_columns"
   ]
  },
  {
   "cell_type": "code",
   "execution_count": 13,
   "id": "6e3f30f6",
   "metadata": {},
   "outputs": [],
   "source": [
    "X_train,X_test,y_train,y_test=train_test_split(X,y,test_size=0.3,random_state=12)"
   ]
  },
  {
   "cell_type": "code",
   "execution_count": 14,
   "id": "1b7d76ae",
   "metadata": {},
   "outputs": [
    {
     "name": "stdout",
     "output_type": "stream",
     "text": [
      "Accuracy of K neighbors classifier: 0.9555555555555556\n",
      "Precision of K neighbors classifier: 0.9611111111111111\n",
      "Recall of K neighbors classifier: 0.9555555555555556\n",
      "F-1 score of K neighbors classifier: 0.9562230362230362\n",
      "Execution time: 0.08648681640625 seconds\n"
     ]
    }
   ],
   "source": [
    "start_time = time.time()\n",
    "knn=KNeighborsClassifier(n_neighbors=3)\n",
    "knn.fit(X_train,y_train)\n",
    "knn_pred=knn.predict(X_test)\n",
    "print(\"Accuracy of K neighbors classifier:\",accuracy_score(y_test,knn_pred));\n",
    "print(\"Precision of K neighbors classifier:\",precision_score(y_test,knn_pred,average=\"weighted\"))\n",
    "print(\"Recall of K neighbors classifier:\",recall_score(y_test,knn_pred,average=\"weighted\"))\n",
    "print(\"F-1 score of K neighbors classifier:\", f1_score(y_test,knn_pred,average=\"weighted\"));\n",
    "end_time = calculate_time()\n",
    "execution_time =  end_time - start_time\n",
    "print(\"Execution time:\", execution_time, \"seconds\")"
   ]
  },
  {
   "cell_type": "code",
   "execution_count": 15,
   "id": "a9cd3402",
   "metadata": {},
   "outputs": [
    {
     "name": "stdout",
     "output_type": "stream",
     "text": [
      "Accuracy of Support Vector Machine:  0.9777777777777777\n",
      "Precision of Support Vector Machine: 0.9792592592592592\n",
      "Recall of Support Vector Machine: 0.9777777777777777\n",
      "F1-score of Support Vector Machine: 0.9778760192553295\n",
      "Execution time: 0.08600997924804688 seconds\n"
     ]
    }
   ],
   "source": [
    "start_time = time.time()\n",
    "svm_clf=svm.SVC(kernel='linear')\n",
    "svm_clf.fit(X_train,y_train)\n",
    "svm_clf_pred=svm_clf.predict(X_test)\n",
    "print(\"Accuracy of Support Vector Machine: \",accuracy_score(y_test,svm_clf_pred));\n",
    "print(\"Precision of Support Vector Machine:\",precision_score(y_test,svm_clf_pred,average=\"weighted\"))\n",
    "print(\"Recall of Support Vector Machine:\",recall_score(y_test,svm_clf_pred,average=\"weighted\"))\n",
    "print(\"F1-score of Support Vector Machine:\",f1_score(y_test,svm_clf_pred,average=\"weighted\"))\n",
    "end_time = calculate_time()\n",
    "execution_time =  end_time - start_time\n",
    "print(\"Execution time:\", execution_time, \"seconds\")"
   ]
  },
  {
   "cell_type": "code",
   "execution_count": 16,
   "id": "30420903",
   "metadata": {},
   "outputs": [
    {
     "name": "stdout",
     "output_type": "stream",
     "text": [
      "Accuracy of Gaussian Naive Bayes: 0.8666666666666667\n",
      "Precision of Gaussian Naive Bayes: 0.8925000000000001\n",
      "Recall of Gaussian Naive Bayes: 0.8666666666666667\n",
      "F-1 score of Gaussian Naive Bayes: 0.8655587211142767\n",
      "Execution time: 0.0856473445892334 seconds\n"
     ]
    }
   ],
   "source": [
    "start_time = time.time()\n",
    "gnb=GaussianNB()\n",
    "gnb.fit(X_train,y_train)\n",
    "gnb_pred=gnb.predict(X_test)\n",
    "print(\"Accuracy of Gaussian Naive Bayes:\",accuracy_score(y_test,gnb_pred));\n",
    "print(\"Precision of Gaussian Naive Bayes:\",precision_score(y_test,gnb_pred,average=\"weighted\"))\n",
    "print(\"Recall of Gaussian Naive Bayes:\",recall_score(y_test,gnb_pred,average=\"weighted\"))\n",
    "print(\"F-1 score of Gaussian Naive Bayes:\", f1_score(y_test,gnb_pred,average=\"weighted\"));\n",
    "end_time = calculate_time()\n",
    "execution_time =  end_time - start_time\n",
    "print(\"Execution time:\", execution_time, \"seconds\")"
   ]
  },
  {
   "cell_type": "code",
   "execution_count": 17,
   "id": "4101fa7d",
   "metadata": {},
   "outputs": [
    {
     "name": "stdout",
     "output_type": "stream",
     "text": [
      "Accuracy score of decision tree classifier: 1.0\n",
      "Precision of Decision Tree classifier 1.0\n",
      "Recall of Decision Tree classifier 1.0\n",
      "F1-score of Decision Tree classifier 1.0\n",
      "Execution time: 0.09921407699584961 seconds\n"
     ]
    }
   ],
   "source": [
    "start_time = time.time()\n",
    "dt=DecisionTreeClassifier()\n",
    "dt.fit(X_train,y_train)\n",
    "dt_pred=dt.predict(X_test)\n",
    "print(\"Accuracy score of decision tree classifier:\",accuracy_score(y_test,dt_pred))\n",
    "print(\"Precision of Decision Tree classifier\",precision_score(y_test,dt_pred,average=\"weighted\"))\n",
    "print(\"Recall of Decision Tree classifier\",recall_score(y_test,dt_pred,average=\"weighted\"))\n",
    "print(\"F1-score of Decision Tree classifier\",f1_score(y_test,dt_pred,average=\"weighted\"))\n",
    "end_time = calculate_time()\n",
    "execution_time =  end_time - start_time\n",
    "print(\"Execution time:\", execution_time, \"seconds\")\n"
   ]
  }
 ],
 "metadata": {
  "kernelspec": {
   "display_name": "Python 3 (ipykernel)",
   "language": "python",
   "name": "python3"
  },
  "language_info": {
   "codemirror_mode": {
    "name": "ipython",
    "version": 3
   },
   "file_extension": ".py",
   "mimetype": "text/x-python",
   "name": "python",
   "nbconvert_exporter": "python",
   "pygments_lexer": "ipython3",
   "version": "3.10.12"
  }
 },
 "nbformat": 4,
 "nbformat_minor": 5
}
